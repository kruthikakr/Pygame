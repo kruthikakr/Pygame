{
 "cells": [
  {
   "cell_type": "markdown",
   "metadata": {},
   "source": [
    "# Case Study\n",
    "## Learn how to make a simple game with Python!\n",
    "Have you ever wondered how video games are created? It’s not as complicated as you might think!\n",
    "\n",
    "In this tutorial, you’ll create a simple game called Bunnies and Badgers, where the hero, the bunny, has to defend a castle against an attacking horde of badgers. :O\n",
    "\n",
    "To write this game, you’ll use Python. \n",
    "\n",
    "Then dive back here and get ready – there’s a war coming on between the bunnies and the badgers. \n",
    "\n"
   ]
  },
  {
   "cell_type": "code",
   "execution_count": null,
   "metadata": {},
   "outputs": [],
   "source": []
  },
  {
   "cell_type": "markdown",
   "metadata": {},
   "source": [
    "### you need to install PyGame in order to write a game using Python.\n",
    "\n",
    "PyGame is a Python library that makes writing games a lot easier! It provides functionality such as image handling and sound playback that you can easily incorporate into your game.\n",
    "\n"
   ]
  },
  {
   "cell_type": "markdown",
   "metadata": {},
   "source": [
    "### For IDLE : Go to the path : C:\\Users\\OM C\\AppData\\Local\\Programs\\Python\\Python37-32\\Scripts\n",
    "### pip install pygame"
   ]
  },
  {
   "cell_type": "markdown",
   "metadata": {},
   "source": [
    "# Adding the Game Resources\n",
    "You are almost ready to create your game. But what’s a game without some great graphics and sound effects? \n",
    "I’ve put together all the graphics and sound effects you’ll need for your game into a ZIP archive. you can download it using google drive link :\n",
    "\n",
    "https://drive.google.com/drive/folders/1LIpgJeWX81RD8n5N_aU22Dm5vwadyTx-?usp=sharing\n",
    "\n",
    "\n",
    "Once you’ve downloaded the file, create a folder for your game on your hard disk and extract the resources folder into that folder so that your game folder has a subfolder named resources, with the various resources grouped in additional folders inside it.\n",
    "\n",
    "### You are now ready to begin creating Bunnies and Badgers. :]"
   ]
  },
  {
   "cell_type": "markdown",
   "metadata": {},
   "source": [
    "## Step 1: Hello Bunny"
   ]
  },
  {
   "cell_type": "code",
   "execution_count": null,
   "metadata": {},
   "outputs": [
    {
     "name": "stdout",
     "output_type": "stream",
     "text": [
      "pygame 1.9.6\n",
      "Hello from the pygame community. https://www.pygame.org/contribute.html\n"
     ]
    }
   ],
   "source": [
    "# 1 - Import library\n",
    "import pygame\n",
    "from pygame.locals import *\n",
    "\n",
    "# 2 - Initialize the game\n",
    "pygame.init()\n",
    "width, height = 640, 480\n",
    "screen=pygame.display.set_mode((width, height))\n",
    "\n",
    "# 3 - Load images\n",
    "player = pygame.image.load(\"resources/images/dude.png\")\n",
    "\n",
    "# 4 - keep looping through\n",
    "while 1:\n",
    "    # 5 - clear the screen before drawing it again\n",
    "    screen.fill(0)\n",
    "    # 6 - draw the screen elements\n",
    "    screen.blit(player, (100,100))\n",
    "    # 7 - update the screen\n",
    "    pygame.display.flip()\n",
    "    # 8 - loop through the events\n",
    "    for event in pygame.event.get():\n",
    "        # check if the event is the X button \n",
    "        if event.type==pygame.QUIT:\n",
    "            # if it is quit the game\n",
    "            pygame.quit() \n",
    "            exit(0) \n"
   ]
  },
  {
   "cell_type": "markdown",
   "metadata": {},
   "source": [
    "Save the file into your game folder (the one where the resources subfolder is) and name it game.py."
   ]
  },
  {
   "cell_type": "markdown",
   "metadata": {},
   "source": [
    "## Let’s go through the code section-by-section:\n",
    "\n",
    "1. Import the PyGame library. This allows you to use functions from the library in your program.\n",
    "2. Initialize PyGame and set up the display window.\n",
    "3. Load the image that you will use for the bunny.\n",
    "4. Keep looping over the following indented code\n",
    "5. Fill the screen with black before you draw anything.\n",
    "6. Add the bunny image that you loaded to the screen at x=100 and y=100.\n",
    "7. Update the screen.\n",
    "8. Check for any new events and if there is one, and it is a quit command, exit the program."
   ]
  },
  {
   "cell_type": "raw",
   "metadata": {},
   "source": [
    "If you run the code now (via Run\\Run Module in the Idle menu), you should see a screen similar to the one below:"
   ]
  },
  {
   "cell_type": "markdown",
   "metadata": {},
   "source": [
    "w00t the bunny is in the scene, and ready for action!\n",
    "\n",
    "But the game looks scary and lonely with the bunny just standing there on a black background. Time to prettify things a little bit. :]"
   ]
  },
  {
   "cell_type": "code",
   "execution_count": null,
   "metadata": {},
   "outputs": [],
   "source": [
    "# 1 - Import library\n",
    "import pygame\n",
    "from pygame.locals import *\n",
    "\n",
    "# 2 - Initialize the game\n",
    "pygame.init()\n",
    "width, height = 640, 480\n",
    "screen=pygame.display.set_mode((width, height))\n",
    "\n",
    "# 3 - Load images\n",
    "player = pygame.image.load(\"resources/images/dude.png\")\n",
    "grass = pygame.image.load(\"resources/images/grass.png\")\n",
    "castle = pygame.image.load(\"resources/images/castle.png\")\n",
    "# 4 - keep looping through\n",
    "while 1:\n",
    "    # 5 - clear the screen before drawing it again\n",
    "    screen.fill(0)\n",
    "    # 6 - draw the screen elements\n",
    "    screen.blit(player, (100,100))\n",
    "    # 7 - update the screen\n",
    "    pygame.display.flip()\n",
    "    # 8 - loop through the events\n",
    "    for event in pygame.event.get():\n",
    "        # check if the event is the X button \n",
    "        if event.type==pygame.QUIT:\n",
    "            # if it is quit the game\n",
    "            pygame.quit() \n",
    "            exit(0) "
   ]
  },
  {
   "cell_type": "markdown",
   "metadata": {},
   "source": [
    "## Step 2: Add Scenery\n",
    "Let’s start by adding a background to the game scene. This can be done with a couple more screen.blit() calls.\n",
    "\n",
    "At the end of section #3, after loading the player image, add the following code:\n",
    "\n",
    "grass = pygame.image.load(\"resources/images/grass.png\")\n",
    "castle = pygame.image.load(\"resources/images/castle.png\")\n",
    "\n",
    "This loads the images and puts them into specific variables. \n",
    "\n",
    "Now they have to be drawn on screen. But if you check the grass image, you will notice that it won’t cover the entire screen area, which is 640 x 480. This means you have to tile the grass over the screen area to cover it completely.\n",
    "\n",
    "Add the following code to game.py at the beginning of section #6 (before the player is drawn on screen):\n"
   ]
  },
  {
   "cell_type": "markdown",
   "metadata": {},
   "source": [
    "for x in range(width/grass.get_width()+1):\n",
    "        for y in range(height/grass.get_height()+1):\n",
    "            screen.blit(grass,(x*100,y*100))\n",
    "            screen.blit(castle,(0,30))\n",
    "            screen.blit(castle,(0,135))\n",
    "            screen.blit(castle,(0,240))\n",
    "            screen.blit(castle,(0,345 ))"
   ]
  },
  {
   "cell_type": "markdown",
   "metadata": {},
   "source": [
    "As you can see, the for statement loops through x first. \n",
    "\n",
    "Then, within that for loop, it loops through y and draws the grass at the x and y values generated by the for loops. \n",
    "\n",
    "The next couple of lines just draw the castles on the screen"
   ]
  },
  {
   "cell_type": "code",
   "execution_count": 1,
   "metadata": {},
   "outputs": [
    {
     "name": "stdout",
     "output_type": "stream",
     "text": [
      "pygame 1.9.6\n",
      "Hello from the pygame community. https://www.pygame.org/contribute.html\n"
     ]
    },
    {
     "ename": "error",
     "evalue": "display Surface quit",
     "output_type": "error",
     "traceback": [
      "\u001b[1;31m---------------------------------------------------------------------------\u001b[0m",
      "\u001b[1;31merror\u001b[0m                                     Traceback (most recent call last)",
      "\u001b[1;32m<ipython-input-1-2fd01a077e08>\u001b[0m in \u001b[0;36m<module>\u001b[1;34m\u001b[0m\n\u001b[0;32m     17\u001b[0m \u001b[1;32mwhile\u001b[0m \u001b[1;36m1\u001b[0m\u001b[1;33m:\u001b[0m\u001b[1;33m\u001b[0m\u001b[1;33m\u001b[0m\u001b[0m\n\u001b[0;32m     18\u001b[0m     \u001b[1;31m# 5 - clear the screen before drawing it again\u001b[0m\u001b[1;33m\u001b[0m\u001b[1;33m\u001b[0m\u001b[1;33m\u001b[0m\u001b[0m\n\u001b[1;32m---> 19\u001b[1;33m     \u001b[0mscreen\u001b[0m\u001b[1;33m.\u001b[0m\u001b[0mfill\u001b[0m\u001b[1;33m(\u001b[0m\u001b[1;36m0\u001b[0m\u001b[1;33m)\u001b[0m\u001b[1;33m\u001b[0m\u001b[1;33m\u001b[0m\u001b[0m\n\u001b[0m\u001b[0;32m     20\u001b[0m     \u001b[1;32mfor\u001b[0m \u001b[0mx\u001b[0m \u001b[1;32min\u001b[0m \u001b[0mrange\u001b[0m\u001b[1;33m(\u001b[0m\u001b[0mwidth\u001b[0m\u001b[1;33m//\u001b[0m\u001b[0mgrass\u001b[0m\u001b[1;33m.\u001b[0m\u001b[0mget_width\u001b[0m\u001b[1;33m(\u001b[0m\u001b[1;33m)\u001b[0m\u001b[1;33m+\u001b[0m\u001b[1;36m1\u001b[0m\u001b[1;33m)\u001b[0m\u001b[1;33m:\u001b[0m\u001b[1;33m\u001b[0m\u001b[1;33m\u001b[0m\u001b[0m\n\u001b[0;32m     21\u001b[0m             \u001b[1;32mfor\u001b[0m \u001b[0my\u001b[0m \u001b[1;32min\u001b[0m \u001b[0mrange\u001b[0m\u001b[1;33m(\u001b[0m\u001b[0mheight\u001b[0m\u001b[1;33m//\u001b[0m\u001b[0mgrass\u001b[0m\u001b[1;33m.\u001b[0m\u001b[0mget_height\u001b[0m\u001b[1;33m(\u001b[0m\u001b[1;33m)\u001b[0m\u001b[1;33m+\u001b[0m\u001b[1;36m1\u001b[0m\u001b[1;33m)\u001b[0m\u001b[1;33m:\u001b[0m\u001b[1;33m\u001b[0m\u001b[1;33m\u001b[0m\u001b[0m\n",
      "\u001b[1;31merror\u001b[0m: display Surface quit"
     ]
    }
   ],
   "source": [
    "# 1 - Import library\n",
    "import pygame\n",
    "from pygame.locals import *\n",
    "\n",
    "# 2 - Initialize the game\n",
    "pygame.init()\n",
    "width, height = 640, 480\n",
    "screen=pygame.display.set_mode((width, height))\n",
    "\n",
    "# 3 - Load images\n",
    "player = pygame.image.load(\"resources/images/dude.png\")\n",
    "grass = pygame.image.load(\"resources/images/grass.png\")\n",
    "castle = pygame.image.load(\"resources/images/castle.png\")\n",
    "\n",
    "\n",
    "# 4 - keep looping through\n",
    "while 1:\n",
    "    # 5 - clear the screen before drawing it again\n",
    "    screen.fill(0)\n",
    "    for x in range(width//grass.get_width()+1):\n",
    "            for y in range(height//grass.get_height()+1):\n",
    "                screen.blit(grass,(x*100,y*100))\n",
    "            screen.blit(castle,(0,30))\n",
    "            screen.blit(castle,(0,135))\n",
    "            screen.blit(castle,(0,240))\n",
    "            screen.blit(castle,(0,345 ))\n",
    "\n",
    "    # 6 - draw the screen elements\n",
    "    screen.blit(player, (100,100))\n",
    "    # 7 - update the screen\n",
    "    pygame.display.flip()\n",
    "    # 8 - loop through the events\n",
    "    for event in pygame.event.get():\n",
    "        # check if the event is the X button \n",
    "        if event.type==pygame.QUIT:\n",
    "            # if it is quit the game\n",
    "            pygame.quit() \n",
    "            exit(0) \n"
   ]
  },
  {
   "cell_type": "markdown",
   "metadata": {},
   "source": [
    "If you run the program now, you should get something like this:\n",
    "    \n",
    "    Much better – this is starting to look good! :]"
   ]
  },
  {
   "cell_type": "markdown",
   "metadata": {},
   "source": [
    "## Step 3: Make the Bunny Move\n",
    "\n",
    "Next you need to add some actual gameplay elements, like making the bunny respond to key presses.\n",
    "\n",
    "To do that, first you’ll implement a good method of keeping track of which keys are being pressed at a given moment.\n",
    "\n",
    "You can do this simply by making an array of key states that holds the state of each key you want to use for the game.\n",
    "\n",
    "Add the following code to game.py at the end of section #2 (after you set the screen height and width):\n",
    "\n",
    "\n",
    "\n"
   ]
  },
  {
   "cell_type": "code",
   "execution_count": null,
   "metadata": {},
   "outputs": [],
   "source": [
    "keys = [False, False, False, False]\n",
    "playerpos=[100,100]"
   ]
  },
  {
   "cell_type": "markdown",
   "metadata": {},
   "source": [
    "This code is pretty self-explanatory. The keys array keeps track of the keys being pressed in the following order: WASD. Each item in the array corresponds to one key – the first to W, the second to A and so on.\n",
    "\n",
    "The playerpos variable is where the program draws the player. Since the game will move the player to different positions, it’s easier to have a variable that contains the player position and then simply draw the player at that position.\n",
    "\n",
    "Now you need to modify the existing code for drawing the player to use the new playerpos variable. \n",
    "Change the following line in section #6:"
   ]
  },
  {
   "cell_type": "code",
   "execution_count": null,
   "metadata": {},
   "outputs": [],
   "source": [
    "    screen.blit(player, (100,100))\n",
    "\n",
    "# To\n",
    "\n",
    "    screen.blit(player, playerpos)\n",
    "\n"
   ]
  },
  {
   "cell_type": "markdown",
   "metadata": {},
   "source": [
    "Next, update the keys array based on which keys are being pressed. \n",
    "\n",
    "PyGame makes detecting key presses easy by adding event.key functions.\n",
    "\n",
    "At the end of section #8, \n",
    "\n",
    "right after the block checking for event.type==pygame.QUIT, put this code (at the same indentation level as the pygame.QUIT if block):"
   ]
  },
  {
   "cell_type": "code",
   "execution_count": null,
   "metadata": {},
   "outputs": [],
   "source": [
    "        if event.type == pygame.KEYDOWN:\n",
    "            if event.key==K_w:\n",
    "                keys[0]=True\n",
    "            elif event.key==K_a:\n",
    "                keys[1]=True\n",
    "            elif event.key==K_s:\n",
    "                keys[2]=True\n",
    "            elif event.key==K_d:\n",
    "                keys[3]=True\n",
    "        if event.type == pygame.KEYUP:\n",
    "            if event.key==pygame.K_w:\n",
    "                keys[0]=False\n",
    "            elif event.key==pygame.K_a:\n",
    "                keys[1]=False\n",
    "            elif event.key==pygame.K_s:\n",
    "                keys[2]=False\n",
    "            elif event.key==pygame.K_d:\n",
    "                keys[3]=False\n"
   ]
  },
  {
   "cell_type": "code",
   "execution_count": null,
   "metadata": {},
   "outputs": [],
   "source": [
    "Wow! Those are a lot of lines of code.\n",
    "If you break it down into the if statements though, it’s not that complicated.\n",
    "\n",
    "First you check to see if a key is being pressed down or released. \n",
    "Then you check which key is being pressed or released, and if the key being pressed or released is one of the keys you’re using, you update the keys variable accordingly.\n",
    "\n",
    "Finally, you need to update the playerpos variable in response to the key presses. \n",
    "This is actually very simple.\n",
    "\n",
    "Add the following code to the end of game.py (with one indentation level, putting it at the same level as the for loop):"
   ]
  },
  {
   "cell_type": "code",
   "execution_count": null,
   "metadata": {},
   "outputs": [],
   "source": [
    "  # 9 - Move player\n",
    "    if keys[0]:\n",
    "        playerpos[1]-=5\n",
    "    elif keys[2]:\n",
    "        playerpos[1]+=5\n",
    "    if keys[1]:\n",
    "        playerpos[0]-=5\n",
    "    elif keys[3]:\n",
    "        playerpos[0]+=5"
   ]
  },
  {
   "cell_type": "markdown",
   "metadata": {},
   "source": [
    "This code simply checks which of the keys are being pressed and adds or subtracts from the player’s x or y position (depending on the key pressed) to move the player.\n",
    "\n",
    "Run the game and you should get a player just like before. Try pressing WASD. Yay! It works"
   ]
  },
  {
   "cell_type": "code",
   "execution_count": 1,
   "metadata": {},
   "outputs": [
    {
     "name": "stdout",
     "output_type": "stream",
     "text": [
      "pygame 1.9.6\n",
      "Hello from the pygame community. https://www.pygame.org/contribute.html\n"
     ]
    },
    {
     "ename": "error",
     "evalue": "display Surface quit",
     "output_type": "error",
     "traceback": [
      "\u001b[1;31m---------------------------------------------------------------------------\u001b[0m",
      "\u001b[1;31merror\u001b[0m                                     Traceback (most recent call last)",
      "\u001b[1;32m<ipython-input-1-60e7ab68fc01>\u001b[0m in \u001b[0;36m<module>\u001b[1;34m\u001b[0m\n\u001b[0;32m     21\u001b[0m \u001b[1;32mwhile\u001b[0m \u001b[1;36m1\u001b[0m\u001b[1;33m:\u001b[0m\u001b[1;33m\u001b[0m\u001b[1;33m\u001b[0m\u001b[0m\n\u001b[0;32m     22\u001b[0m     \u001b[1;31m# 5 - clear the screen before drawing it again\u001b[0m\u001b[1;33m\u001b[0m\u001b[1;33m\u001b[0m\u001b[1;33m\u001b[0m\u001b[0m\n\u001b[1;32m---> 23\u001b[1;33m     \u001b[0mscreen\u001b[0m\u001b[1;33m.\u001b[0m\u001b[0mfill\u001b[0m\u001b[1;33m(\u001b[0m\u001b[1;36m0\u001b[0m\u001b[1;33m)\u001b[0m\u001b[1;33m\u001b[0m\u001b[1;33m\u001b[0m\u001b[0m\n\u001b[0m\u001b[0;32m     24\u001b[0m     \u001b[1;32mfor\u001b[0m \u001b[0mx\u001b[0m \u001b[1;32min\u001b[0m \u001b[0mrange\u001b[0m\u001b[1;33m(\u001b[0m\u001b[0mwidth\u001b[0m\u001b[1;33m//\u001b[0m\u001b[0mgrass\u001b[0m\u001b[1;33m.\u001b[0m\u001b[0mget_width\u001b[0m\u001b[1;33m(\u001b[0m\u001b[1;33m)\u001b[0m\u001b[1;33m+\u001b[0m\u001b[1;36m1\u001b[0m\u001b[1;33m)\u001b[0m\u001b[1;33m:\u001b[0m\u001b[1;33m\u001b[0m\u001b[1;33m\u001b[0m\u001b[0m\n\u001b[0;32m     25\u001b[0m             \u001b[1;32mfor\u001b[0m \u001b[0my\u001b[0m \u001b[1;32min\u001b[0m \u001b[0mrange\u001b[0m\u001b[1;33m(\u001b[0m\u001b[0mheight\u001b[0m\u001b[1;33m//\u001b[0m\u001b[0mgrass\u001b[0m\u001b[1;33m.\u001b[0m\u001b[0mget_height\u001b[0m\u001b[1;33m(\u001b[0m\u001b[1;33m)\u001b[0m\u001b[1;33m+\u001b[0m\u001b[1;36m1\u001b[0m\u001b[1;33m)\u001b[0m\u001b[1;33m:\u001b[0m\u001b[1;33m\u001b[0m\u001b[1;33m\u001b[0m\u001b[0m\n",
      "\u001b[1;31merror\u001b[0m: display Surface quit"
     ]
    }
   ],
   "source": [
    "# 1 - Import library\n",
    "import pygame\n",
    "from pygame.locals import *\n",
    "\n",
    "# 2 - Initialize the game\n",
    "pygame.init()\n",
    "width, height = 640, 480\n",
    "screen=pygame.display.set_mode((width, height))\n",
    "\n",
    "keys = [False, False, False, False]\n",
    "playerpos=[100,100]\n",
    "\n",
    "\n",
    "# 3 - Load images\n",
    "player = pygame.image.load(\"resources/images/dude.png\")\n",
    "grass = pygame.image.load(\"resources/images/grass.png\")\n",
    "castle = pygame.image.load(\"resources/images/castle.png\")\n",
    "\n",
    "\n",
    "# 4 - keep looping through\n",
    "while 1:\n",
    "    # 5 - clear the screen before drawing it again\n",
    "    screen.fill(0)\n",
    "    for x in range(width//grass.get_width()+1):\n",
    "            for y in range(height//grass.get_height()+1):\n",
    "                screen.blit(grass,(x*100,y*100))\n",
    "            screen.blit(castle,(0,30))\n",
    "            screen.blit(castle,(0,135))\n",
    "            screen.blit(castle,(0,240))\n",
    "            screen.blit(castle,(0,345 ))\n",
    "\n",
    "    # 6 - draw the screen elements\n",
    "    screen.blit(player, playerpos)\n",
    "    # screen.blit(player, (100,100))\n",
    "    # 7 - update the screen\n",
    "    pygame.display.flip()\n",
    "    # 8 - loop through the events\n",
    "    # 8 - loop through the events\n",
    "    for event in pygame.event.get():\n",
    "        # check if the event is the X button \n",
    "        if event.type==pygame.QUIT:\n",
    "            # if it is quit the game\n",
    "            pygame.quit()\n",
    "            exit(0)\n",
    "        if event.type == pygame.KEYDOWN:\n",
    "            if event.key==K_w:\n",
    "                keys[0]=True\n",
    "            elif event.key==K_a:\n",
    "                keys[1]=True\n",
    "            elif event.key==K_s:\n",
    "                keys[2]=True\n",
    "            elif event.key==K_d:\n",
    "                keys[3]=True\n",
    "        if event.type == pygame.KEYUP:\n",
    "            if event.key==pygame.K_w:\n",
    "                keys[0]=False\n",
    "            elif event.key==pygame.K_a:\n",
    "                keys[1]=False\n",
    "            elif event.key==pygame.K_s:\n",
    "                keys[2]=False\n",
    "            elif event.key==pygame.K_d:\n",
    "                keys[3]=False\n",
    "\n",
    "            # if it is quit the game\n",
    "                pygame.quit() \n",
    "                exit(0) "
   ]
  },
  {
   "cell_type": "markdown",
   "metadata": {},
   "source": [
    "### Step 4: Turning the Bunny\n"
   ]
  }
 ],
 "metadata": {
  "kernelspec": {
   "display_name": "Python 3",
   "language": "python",
   "name": "python3"
  },
  "language_info": {
   "codemirror_mode": {
    "name": "ipython",
    "version": 3
   },
   "file_extension": ".py",
   "mimetype": "text/x-python",
   "name": "python",
   "nbconvert_exporter": "python",
   "pygments_lexer": "ipython3",
   "version": "3.7.1"
  }
 },
 "nbformat": 4,
 "nbformat_minor": 2
}
