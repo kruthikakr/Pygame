{
 "cells": [
  {
   "cell_type": "markdown",
   "metadata": {},
   "source": [
    "# Case Study\n",
    "## Learn how to make a simple game with Python!\n",
    "Have you ever wondered how video games are created? It’s not as complicated as you might think!\n",
    "\n",
    "In this tutorial, you’ll create a simple game called Bunnies and Badgers, where the hero, the bunny, has to defend a castle against an attacking horde of badgers. :O\n",
    "\n",
    "To write this game, you’ll use Python. \n",
    "\n",
    "Then dive back here and get ready – there’s a war coming on between the bunnies and the badgers. \n",
    "\n"
   ]
  },
  {
   "cell_type": "markdown",
   "metadata": {},
   "source": [
    "### you need to install PyGame in order to write a game using Python.\n",
    "\n",
    "PyGame is a Python library that makes writing games a lot easier! It provides functionality such as image handling and sound playback that you can easily incorporate into your game.\n",
    "\n"
   ]
  },
  {
   "cell_type": "markdown",
   "metadata": {},
   "source": [
    "### For IDLE : Go to the path : C:\\Users\\OM C\\AppData\\Local\\Programs\\Python\\Python37-32\\Scripts\n",
    "### pip install pygame"
   ]
  },
  {
   "cell_type": "markdown",
   "metadata": {},
   "source": [
    "# Adding the Game Resources\n",
    "You are almost ready to create your game. But what’s a game without some great graphics and sound effects? \n",
    "I’ve put together all the graphics and sound effects you’ll need for your game into a ZIP archive. you can download it using google drive link :\n",
    "\n",
    "https://drive.google.com/drive/folders/1LIpgJeWX81RD8n5N_aU22Dm5vwadyTx-?usp=sharing\n",
    "\n",
    "\n",
    "Once you’ve downloaded the file, create a folder for your game on your hard disk and extract the resources folder into that folder so that your game folder has a subfolder named resources, with the various resources grouped in additional folders inside it.\n",
    "\n",
    "### You are now ready to begin creating Bunnies and Badgers. :]"
   ]
  },
  {
   "cell_type": "markdown",
   "metadata": {},
   "source": [
    "## Step 1: Hello Bunny"
   ]
  },
  {
   "cell_type": "code",
   "execution_count": 1,
   "metadata": {},
   "outputs": [
    {
     "name": "stdout",
     "output_type": "stream",
     "text": [
      "pygame 1.9.6\n",
      "Hello from the pygame community. https://www.pygame.org/contribute.html\n"
     ]
    },
    {
     "ename": "error",
     "evalue": "display Surface quit",
     "output_type": "error",
     "traceback": [
      "\u001b[1;31m---------------------------------------------------------------------------\u001b[0m",
      "\u001b[1;31merror\u001b[0m                                     Traceback (most recent call last)",
      "\u001b[1;32m<ipython-input-1-d4f25e14b43d>\u001b[0m in \u001b[0;36m<module>\u001b[1;34m\u001b[0m\n\u001b[0;32m     14\u001b[0m \u001b[1;32mwhile\u001b[0m \u001b[1;36m1\u001b[0m\u001b[1;33m:\u001b[0m\u001b[1;33m\u001b[0m\u001b[1;33m\u001b[0m\u001b[0m\n\u001b[0;32m     15\u001b[0m     \u001b[1;31m# 5 - clear the screen before drawing it again\u001b[0m\u001b[1;33m\u001b[0m\u001b[1;33m\u001b[0m\u001b[1;33m\u001b[0m\u001b[0m\n\u001b[1;32m---> 16\u001b[1;33m     \u001b[0mscreen\u001b[0m\u001b[1;33m.\u001b[0m\u001b[0mfill\u001b[0m\u001b[1;33m(\u001b[0m\u001b[1;36m0\u001b[0m\u001b[1;33m)\u001b[0m\u001b[1;33m\u001b[0m\u001b[1;33m\u001b[0m\u001b[0m\n\u001b[0m\u001b[0;32m     17\u001b[0m     \u001b[1;31m# 6 - draw the screen elements\u001b[0m\u001b[1;33m\u001b[0m\u001b[1;33m\u001b[0m\u001b[1;33m\u001b[0m\u001b[0m\n\u001b[0;32m     18\u001b[0m     \u001b[0mscreen\u001b[0m\u001b[1;33m.\u001b[0m\u001b[0mblit\u001b[0m\u001b[1;33m(\u001b[0m\u001b[0mplayer\u001b[0m\u001b[1;33m,\u001b[0m \u001b[1;33m(\u001b[0m\u001b[1;36m100\u001b[0m\u001b[1;33m,\u001b[0m\u001b[1;36m100\u001b[0m\u001b[1;33m)\u001b[0m\u001b[1;33m)\u001b[0m\u001b[1;33m\u001b[0m\u001b[1;33m\u001b[0m\u001b[0m\n",
      "\u001b[1;31merror\u001b[0m: display Surface quit"
     ]
    }
   ],
   "source": [
    "# 1 - Import library\n",
    "import pygame\n",
    "from pygame.locals import *\n",
    "\n",
    "# 2 - Initialize the game\n",
    "pygame.init()\n",
    "width, height = 640, 480\n",
    "screen=pygame.display.set_mode((width, height))\n",
    "\n",
    "# 3 - Load images\n",
    "player = pygame.image.load(\"resources/images/dude.png\")\n",
    "\n",
    "# 4 - keep looping through\n",
    "while 1:\n",
    "    # 5 - clear the screen before drawing it again\n",
    "    screen.fill(0)\n",
    "    # 6 - draw the screen elements\n",
    "    screen.blit(player, (100,100))\n",
    "    # 7 - update the screen\n",
    "    pygame.display.flip()\n",
    "    # 8 - loop through the events\n",
    "    for event in pygame.event.get():\n",
    "        # check if the event is the X button \n",
    "        if event.type==pygame.QUIT:\n",
    "            # if it is quit the game\n",
    "            pygame.quit() \n",
    "            exit(0) \n"
   ]
  },
  {
   "cell_type": "markdown",
   "metadata": {},
   "source": [
    "Save the file into your game folder (the one where the resources subfolder is) and name it game.py."
   ]
  },
  {
   "cell_type": "markdown",
   "metadata": {},
   "source": [
    "## Let’s go through the code section-by-section:\n",
    "\n",
    "1. Import the PyGame library. This allows you to use functions from the library in your program.\n",
    "2. Initialize PyGame and set up the display window.\n",
    "3. Load the image that you will use for the bunny.\n",
    "4. Keep looping over the following indented code\n",
    "5. Fill the screen with black before you draw anything.\n",
    "6. Add the bunny image that you loaded to the screen at x=100 and y=100.\n",
    "7. Update the screen.\n",
    "8. Check for any new events and if there is one, and it is a quit command, exit the program."
   ]
  },
  {
   "cell_type": "raw",
   "metadata": {},
   "source": [
    "If you run the code now (via Run\\Run Module in the Idle menu), you should see a screen similar to the one below:"
   ]
  },
  {
   "cell_type": "markdown",
   "metadata": {},
   "source": [
    "w00t the bunny is in the scene, and ready for action!\n",
    "\n",
    "But the game looks scary and lonely with the bunny just standing there on a black background. Time to prettify things a little bit. :]"
   ]
  },
  {
   "cell_type": "code",
   "execution_count": null,
   "metadata": {},
   "outputs": [],
   "source": [
    "# 1 - Import library\n",
    "import pygame\n",
    "from pygame.locals import *\n",
    "\n",
    "# 2 - Initialize the game\n",
    "pygame.init()\n",
    "width, height = 640, 480\n",
    "screen=pygame.display.set_mode((width, height))\n",
    "\n",
    "# 3 - Load images\n",
    "player = pygame.image.load(\"resources/images/dude.png\")\n",
    "grass = pygame.image.load(\"resources/images/grass.png\")\n",
    "castle = pygame.image.load(\"resources/images/castle.png\")\n",
    "# 4 - keep looping through\n",
    "while 1:\n",
    "    # 5 - clear the screen before drawing it again\n",
    "    screen.fill(0)\n",
    "    # 6 - draw the screen elements\n",
    "    screen.blit(player, (100,100))\n",
    "    # 7 - update the screen\n",
    "    pygame.display.flip()\n",
    "    # 8 - loop through the events\n",
    "    for event in pygame.event.get():\n",
    "        # check if the event is the X button \n",
    "        if event.type==pygame.QUIT:\n",
    "            # if it is quit the game\n",
    "            pygame.quit() \n",
    "            exit(0) "
   ]
  },
  {
   "cell_type": "markdown",
   "metadata": {},
   "source": [
    "## Step 2: Add Scenery\n",
    "Let’s start by adding a background to the game scene. This can be done with a couple more screen.blit() calls.\n",
    "\n",
    "At the end of section #3, after loading the player image, add the following code:\n",
    "\n",
    "grass = pygame.image.load(\"resources/images/grass.png\")\n",
    "castle = pygame.image.load(\"resources/images/castle.png\")\n",
    "\n",
    "This loads the images and puts them into specific variables. \n",
    "\n",
    "Now they have to be drawn on screen. But if you check the grass image, you will notice that it won’t cover the entire screen area, which is 640 x 480. This means you have to tile the grass over the screen area to cover it completely.\n",
    "\n",
    "Add the following code to game.py at the beginning of section #6 (before the player is drawn on screen):\n"
   ]
  },
  {
   "cell_type": "markdown",
   "metadata": {},
   "source": [
    "for x in range(width/grass.get_width()+1):\n",
    "        for y in range(height/grass.get_height()+1):\n",
    "            screen.blit(grass,(x*100,y*100))\n",
    "            screen.blit(castle,(0,30))\n",
    "            screen.blit(castle,(0,135))\n",
    "            screen.blit(castle,(0,240))\n",
    "            screen.blit(castle,(0,345 ))"
   ]
  },
  {
   "cell_type": "markdown",
   "metadata": {},
   "source": [
    "As you can see, the for statement loops through x first. \n",
    "\n",
    "Then, within that for loop, it loops through y and draws the grass at the x and y values generated by the for loops. \n",
    "\n",
    "The next couple of lines just draw the castles on the screen"
   ]
  },
  {
   "cell_type": "code",
   "execution_count": null,
   "metadata": {},
   "outputs": [],
   "source": [
    "# 1 - Import library\n",
    "import pygame\n",
    "from pygame.locals import *\n",
    "\n",
    "# 2 - Initialize the game\n",
    "pygame.init()\n",
    "width, height = 640, 480\n",
    "screen=pygame.display.set_mode((width, height))\n",
    "\n",
    "# 3 - Load images\n",
    "player = pygame.image.load(\"resources/images/dude.png\")\n",
    "grass = pygame.image.load(\"resources/images/grass.png\")\n",
    "castle = pygame.image.load(\"resources/images/castle.png\")\n",
    "\n",
    "\n",
    "# 4 - keep looping through\n",
    "while 1:\n",
    "    # 5 - clear the screen before drawing it again\n",
    "    screen.fill(0)\n",
    "   \n",
    "\n",
    "    # 6 - draw the screen elements\n",
    "    screen.blit(player, (100,100))\n",
    "    for x in range(width//grass.get_width()+1):\n",
    "        for y in range(height//grass.get_height()+1):\n",
    "            screen.blit(grass,(x*100,y*100))\n",
    "    screen.blit(castle,(0,30))\n",
    "    screen.blit(castle,(0,135))\n",
    "    screen.blit(castle,(0,240))\n",
    "    screen.blit(castle,(0,345 ))\n",
    "    # 7 - update the screen\n",
    "    pygame.display.flip()\n",
    "    # 8 - loop through the events\n",
    "    for event in pygame.event.get():\n",
    "        # check if the event is the X button \n",
    "        if event.type==pygame.QUIT:\n",
    "            # if it is quit the game\n",
    "            pygame.quit() \n",
    "            exit(0) \n"
   ]
  },
  {
   "cell_type": "markdown",
   "metadata": {},
   "source": [
    "If you run the program now, you should get something like this:\n",
    "    \n",
    "    Much better – this is starting to look good! :]"
   ]
  },
  {
   "cell_type": "markdown",
   "metadata": {},
   "source": [
    "## Step 3: Make the Bunny Move\n",
    "\n",
    "Next you need to add some actual gameplay elements, like making the bunny respond to key presses.\n",
    "\n",
    "To do that, first you’ll implement a good method of keeping track of which keys are being pressed at a given moment.\n",
    "\n",
    "You can do this simply by making an array of key states that holds the state of each key you want to use for the game.\n",
    "\n",
    "Add the following code to game.py at the end of section #2 (after you set the screen height and width):\n",
    "\n",
    "\n",
    "\n"
   ]
  },
  {
   "cell_type": "code",
   "execution_count": null,
   "metadata": {},
   "outputs": [],
   "source": [
    "keys = [False, False, False, False]\n",
    "playerpos=[100,100]"
   ]
  },
  {
   "cell_type": "markdown",
   "metadata": {},
   "source": [
    "This code is pretty self-explanatory. The keys array keeps track of the keys being pressed in the following order: WASD. Each item in the array corresponds to one key – the first to W, the second to A and so on.\n",
    "\n",
    "The playerpos variable is where the program draws the player. Since the game will move the player to different positions, it’s easier to have a variable that contains the player position and then simply draw the player at that position.\n",
    "\n",
    "Now you need to modify the existing code for drawing the player to use the new playerpos variable. \n",
    "Change the following line in section #6:"
   ]
  },
  {
   "cell_type": "code",
   "execution_count": null,
   "metadata": {},
   "outputs": [],
   "source": [
    "    screen.blit(player, (100,100))\n",
    "\n",
    "# To\n",
    "\n",
    "    screen.blit(player, playerpos)\n",
    "\n"
   ]
  },
  {
   "cell_type": "markdown",
   "metadata": {},
   "source": [
    "Next, update the keys array based on which keys are being pressed. \n",
    "\n",
    "PyGame makes detecting key presses easy by adding event.key functions.\n",
    "\n",
    "At the end of section #8, \n",
    "\n",
    "right after the block checking for event.type==pygame.QUIT, put this code (at the same indentation level as the pygame.QUIT if block):"
   ]
  },
  {
   "cell_type": "code",
   "execution_count": null,
   "metadata": {},
   "outputs": [],
   "source": [
    "        if event.type == pygame.KEYDOWN:\n",
    "            if event.key==K_w:\n",
    "                keys[0]=True\n",
    "            elif event.key==K_a:\n",
    "                keys[1]=True\n",
    "            elif event.key==K_s:\n",
    "                keys[2]=True\n",
    "            elif event.key==K_d:\n",
    "                keys[3]=True\n",
    "        if event.type == pygame.KEYUP:\n",
    "            if event.key==pygame.K_w:\n",
    "                keys[0]=False\n",
    "            elif event.key==pygame.K_a:\n",
    "                keys[1]=False\n",
    "            elif event.key==pygame.K_s:\n",
    "                keys[2]=False\n",
    "            elif event.key==pygame.K_d:\n",
    "                keys[3]=False\n"
   ]
  },
  {
   "cell_type": "code",
   "execution_count": null,
   "metadata": {},
   "outputs": [],
   "source": [
    "Wow! Those are a lot of lines of code.\n",
    "If you break it down into the if statements though, it’s not that complicated.\n",
    "\n",
    "First you check to see if a key is being pressed down or released. \n",
    "Then you check which key is being pressed or released, and if the key being pressed or released is one of the keys you’re using, you update the keys variable accordingly.\n",
    "\n",
    "Finally, you need to update the playerpos variable in response to the key presses. \n",
    "This is actually very simple.\n",
    "\n",
    "Add the following code to the end of game.py (with one indentation level, putting it at the same level as the for loop):"
   ]
  },
  {
   "cell_type": "code",
   "execution_count": null,
   "metadata": {},
   "outputs": [],
   "source": [
    "  # 9 - Move player\n",
    "    if keys[0]:\n",
    "        playerpos[1]-=5\n",
    "    elif keys[2]:\n",
    "        playerpos[1]+=5\n",
    "    if keys[1]:\n",
    "        playerpos[0]-=5\n",
    "    elif keys[3]:\n",
    "        playerpos[0]+=5"
   ]
  },
  {
   "cell_type": "markdown",
   "metadata": {},
   "source": [
    "This code simply checks which of the keys are being pressed and adds or subtracts from the player’s x or y position (depending on the key pressed) to move the player.\n",
    "\n",
    "Run the game and you should get a player just like before. Try pressing WASD. Yay! It works"
   ]
  },
  {
   "cell_type": "code",
   "execution_count": 1,
   "metadata": {},
   "outputs": [
    {
     "name": "stdout",
     "output_type": "stream",
     "text": [
      "pygame 1.9.6\n",
      "Hello from the pygame community. https://www.pygame.org/contribute.html\n"
     ]
    },
    {
     "ename": "error",
     "evalue": "display Surface quit",
     "output_type": "error",
     "traceback": [
      "\u001b[1;31m---------------------------------------------------------------------------\u001b[0m",
      "\u001b[1;31merror\u001b[0m                                     Traceback (most recent call last)",
      "\u001b[1;32m<ipython-input-1-60e7ab68fc01>\u001b[0m in \u001b[0;36m<module>\u001b[1;34m\u001b[0m\n\u001b[0;32m     21\u001b[0m \u001b[1;32mwhile\u001b[0m \u001b[1;36m1\u001b[0m\u001b[1;33m:\u001b[0m\u001b[1;33m\u001b[0m\u001b[1;33m\u001b[0m\u001b[0m\n\u001b[0;32m     22\u001b[0m     \u001b[1;31m# 5 - clear the screen before drawing it again\u001b[0m\u001b[1;33m\u001b[0m\u001b[1;33m\u001b[0m\u001b[1;33m\u001b[0m\u001b[0m\n\u001b[1;32m---> 23\u001b[1;33m     \u001b[0mscreen\u001b[0m\u001b[1;33m.\u001b[0m\u001b[0mfill\u001b[0m\u001b[1;33m(\u001b[0m\u001b[1;36m0\u001b[0m\u001b[1;33m)\u001b[0m\u001b[1;33m\u001b[0m\u001b[1;33m\u001b[0m\u001b[0m\n\u001b[0m\u001b[0;32m     24\u001b[0m     \u001b[1;32mfor\u001b[0m \u001b[0mx\u001b[0m \u001b[1;32min\u001b[0m \u001b[0mrange\u001b[0m\u001b[1;33m(\u001b[0m\u001b[0mwidth\u001b[0m\u001b[1;33m//\u001b[0m\u001b[0mgrass\u001b[0m\u001b[1;33m.\u001b[0m\u001b[0mget_width\u001b[0m\u001b[1;33m(\u001b[0m\u001b[1;33m)\u001b[0m\u001b[1;33m+\u001b[0m\u001b[1;36m1\u001b[0m\u001b[1;33m)\u001b[0m\u001b[1;33m:\u001b[0m\u001b[1;33m\u001b[0m\u001b[1;33m\u001b[0m\u001b[0m\n\u001b[0;32m     25\u001b[0m             \u001b[1;32mfor\u001b[0m \u001b[0my\u001b[0m \u001b[1;32min\u001b[0m \u001b[0mrange\u001b[0m\u001b[1;33m(\u001b[0m\u001b[0mheight\u001b[0m\u001b[1;33m//\u001b[0m\u001b[0mgrass\u001b[0m\u001b[1;33m.\u001b[0m\u001b[0mget_height\u001b[0m\u001b[1;33m(\u001b[0m\u001b[1;33m)\u001b[0m\u001b[1;33m+\u001b[0m\u001b[1;36m1\u001b[0m\u001b[1;33m)\u001b[0m\u001b[1;33m:\u001b[0m\u001b[1;33m\u001b[0m\u001b[1;33m\u001b[0m\u001b[0m\n",
      "\u001b[1;31merror\u001b[0m: display Surface quit"
     ]
    }
   ],
   "source": [
    "# 1 - Import library\n",
    "import pygame\n",
    "from pygame.locals import *\n",
    "\n",
    "# 2 - Initialize the game\n",
    "pygame.init()\n",
    "width, height = 640, 480\n",
    "screen=pygame.display.set_mode((width, height))\n",
    "\n",
    "keys = [False, False, False, False]\n",
    "playerpos=[100,100]\n",
    "\n",
    "\n",
    "# 3 - Load images\n",
    "player = pygame.image.load(\"resources/images/dude.png\")\n",
    "grass = pygame.image.load(\"resources/images/grass.png\")\n",
    "castle = pygame.image.load(\"resources/images/castle.png\")\n",
    "\n",
    "\n",
    "# 4 - keep looping through\n",
    "while 1:\n",
    "    # 5 - clear the screen before drawing it again\n",
    "    screen.fill(0)\n",
    "    for x in range(width//grass.get_width()+1):\n",
    "            for y in range(height//grass.get_height()+1):\n",
    "                screen.blit(grass,(x*100,y*100))\n",
    "            screen.blit(castle,(0,30))\n",
    "            screen.blit(castle,(0,135))\n",
    "            screen.blit(castle,(0,240))\n",
    "            screen.blit(castle,(0,345 ))\n",
    "\n",
    "    # 6 - draw the screen elements\n",
    "    screen.blit(player, playerpos)\n",
    "    # screen.blit(player, (100,100))\n",
    "    # 7 - update the screen\n",
    "    pygame.display.flip()\n",
    "    # 8 - loop through the events\n",
    "    # 8 - loop through the events\n",
    "    for event in pygame.event.get():\n",
    "        # check if the event is the X button \n",
    "        if event.type==pygame.QUIT:\n",
    "            # if it is quit the game\n",
    "            pygame.quit()\n",
    "            exit(0)\n",
    "        if event.type == pygame.KEYDOWN:\n",
    "            if event.key==K_w:\n",
    "                keys[0]=True\n",
    "            elif event.key==K_a:\n",
    "                keys[1]=True\n",
    "            elif event.key==K_s:\n",
    "                keys[2]=True\n",
    "            elif event.key==K_d:\n",
    "                keys[3]=True\n",
    "        if event.type == pygame.KEYUP:\n",
    "            if event.key==pygame.K_w:\n",
    "                keys[0]=False\n",
    "            elif event.key==pygame.K_a:\n",
    "                keys[1]=False\n",
    "            elif event.key==pygame.K_s:\n",
    "                keys[2]=False\n",
    "            elif event.key==pygame.K_d:\n",
    "                keys[3]=False\n",
    "\n",
    "            # if it is quit the game\n",
    "                pygame.quit() \n",
    "                exit(0) "
   ]
  },
  {
   "attachments": {
    "image.png": {
     "image/png": "[encoded data removed]"
    }
   },
   "cell_type": "markdown",
   "metadata": {},
   "source": [
    "### Step 4: Turning the Bunny\n",
    "\n",
    "Yes, your bunny now moves when you press keys but wouldn’t it be even cooler if you could use your mouse to rotate the bunny to face a direction of your choosing, so he’s not facing the same way all the time? It’s simple enough to implement using trigonometry.\n",
    "\n",
    "Take a look at the following illustration:\n",
    "\n",
    "![image.png](attachment:image.png)\n",
    "\n",
    "In the above image, if (5,3) is the position of the bunny and (2,4) is the current position of the mouse, you can find the rotation angle (z) by applying the atan2 trigonometric function to the difference in distances between the two points. Of course, once you know the rotation angle, you can simply rotate the bunny accordingly. :]\n",
    "\n",
    "If you’re a bit confused about this part, don’t worry – you can continue on anyway. But this is why you should pay attention in Math class! :] You’ll use this stuff all the time in game programming.\n",
    "\n",
    "Now you need to apply this concept to your game. To do this, you can use the PyGame Surface.rotate(degrees) function. Incidentally, keep in mind that the Z value is in radians. :[\n",
    "\n",
    "The atan2 function comes from the Python math library. So add this to the end of section #1 first:\n"
   ]
  },
  {
   "cell_type": "code",
   "execution_count": null,
   "metadata": {},
   "outputs": [],
   "source": [
    "import math"
   ]
  },
  {
   "cell_type": "markdown",
   "metadata": {},
   "source": [
    "Then, replace the last line in section #6 (the player.blit line) with the following code:"
   ]
  },
  {
   "cell_type": "code",
   "execution_count": null,
   "metadata": {},
   "outputs": [],
   "source": [
    " # 6.1 - Set player position and rotation\n",
    "    position = pygame.mouse.get_pos()\n",
    "    angle = math.atan2(position[1]-(playerpos[1]+32),position[0]-(playerpos[0]+26))\n",
    "    playerrot = pygame.transform.rotate(player, 360-angle*57.29)\n",
    "    playerpos1 = (playerpos[0]-playerrot.get_rect().width/2, playerpos[1]-playerrot.get_rect().height/2)\n",
    "    screen.blit(playerrot, playerpos1) \n"
   ]
  },
  {
   "cell_type": "markdown",
   "metadata": {},
   "source": [
    "Let’s go through the basic structure of the above code. First you get the mouse and player positions. Then you feed those into the atan2 function. After that, you convert the angle received from the atan2 function from radians to degrees (multiply radians by approximately 57.29 or 360/2π).\n",
    "\n",
    "Since the bunny will be rotated, its position will change. So now you calculate the new bunny position and display the bunny on screen.\n",
    "\n",
    "Run the game again. If you use just the WASD keys, then the game should behave exactly like before. But if you move your mouse, the bunny rotates too. Cool!\n",
    "\n"
   ]
  },
  {
   "cell_type": "code",
   "execution_count": 1,
   "metadata": {},
   "outputs": [
    {
     "name": "stdout",
     "output_type": "stream",
     "text": [
      "pygame 1.9.6\n",
      "Hello from the pygame community. https://www.pygame.org/contribute.html\n"
     ]
    },
    {
     "ename": "error",
     "evalue": "display Surface quit",
     "output_type": "error",
     "traceback": [
      "\u001b[1;31m---------------------------------------------------------------------------\u001b[0m",
      "\u001b[1;31merror\u001b[0m                                     Traceback (most recent call last)",
      "\u001b[1;32m<ipython-input-1-e96b59cc43ff>\u001b[0m in \u001b[0;36m<module>\u001b[1;34m\u001b[0m\n\u001b[0;32m     22\u001b[0m \u001b[1;32mwhile\u001b[0m \u001b[1;36m1\u001b[0m\u001b[1;33m:\u001b[0m\u001b[1;33m\u001b[0m\u001b[1;33m\u001b[0m\u001b[0m\n\u001b[0;32m     23\u001b[0m     \u001b[1;31m# 5 - clear the screen before drawing it again\u001b[0m\u001b[1;33m\u001b[0m\u001b[1;33m\u001b[0m\u001b[1;33m\u001b[0m\u001b[0m\n\u001b[1;32m---> 24\u001b[1;33m     \u001b[0mscreen\u001b[0m\u001b[1;33m.\u001b[0m\u001b[0mfill\u001b[0m\u001b[1;33m(\u001b[0m\u001b[1;36m0\u001b[0m\u001b[1;33m)\u001b[0m\u001b[1;33m\u001b[0m\u001b[1;33m\u001b[0m\u001b[0m\n\u001b[0m\u001b[0;32m     25\u001b[0m     \u001b[1;32mfor\u001b[0m \u001b[0mx\u001b[0m \u001b[1;32min\u001b[0m \u001b[0mrange\u001b[0m\u001b[1;33m(\u001b[0m\u001b[0mwidth\u001b[0m\u001b[1;33m//\u001b[0m\u001b[0mgrass\u001b[0m\u001b[1;33m.\u001b[0m\u001b[0mget_width\u001b[0m\u001b[1;33m(\u001b[0m\u001b[1;33m)\u001b[0m\u001b[1;33m+\u001b[0m\u001b[1;36m1\u001b[0m\u001b[1;33m)\u001b[0m\u001b[1;33m:\u001b[0m\u001b[1;33m\u001b[0m\u001b[1;33m\u001b[0m\u001b[0m\n\u001b[0;32m     26\u001b[0m             \u001b[1;32mfor\u001b[0m \u001b[0my\u001b[0m \u001b[1;32min\u001b[0m \u001b[0mrange\u001b[0m\u001b[1;33m(\u001b[0m\u001b[0mheight\u001b[0m\u001b[1;33m//\u001b[0m\u001b[0mgrass\u001b[0m\u001b[1;33m.\u001b[0m\u001b[0mget_height\u001b[0m\u001b[1;33m(\u001b[0m\u001b[1;33m)\u001b[0m\u001b[1;33m+\u001b[0m\u001b[1;36m1\u001b[0m\u001b[1;33m)\u001b[0m\u001b[1;33m:\u001b[0m\u001b[1;33m\u001b[0m\u001b[1;33m\u001b[0m\u001b[0m\n",
      "\u001b[1;31merror\u001b[0m: display Surface quit"
     ]
    }
   ],
   "source": [
    "# 1 - Import library\n",
    "import pygame\n",
    "from pygame.locals import *\n",
    "import math\n",
    "\n",
    "# 2 - Initialize the game\n",
    "pygame.init()\n",
    "width, height = 640, 480\n",
    "screen=pygame.display.set_mode((width, height))\n",
    "\n",
    "keys = [False, False, False, False]\n",
    "playerpos=[100,100]\n",
    "\n",
    "\n",
    "# 3 - Load images\n",
    "player = pygame.image.load(\"resources/images/dude.png\")\n",
    "grass = pygame.image.load(\"resources/images/grass.png\")\n",
    "castle = pygame.image.load(\"resources/images/castle.png\")\n",
    "\n",
    "\n",
    "# 4 - keep looping through\n",
    "while 1:\n",
    "    # 5 - clear the screen before drawing it again\n",
    "    screen.fill(0)\n",
    "    for x in range(width//grass.get_width()+1):\n",
    "            for y in range(height//grass.get_height()+1):\n",
    "                screen.blit(grass,(x*100,y*100))\n",
    "            screen.blit(castle,(0,30))\n",
    "            screen.blit(castle,(0,135))\n",
    "            screen.blit(castle,(0,240))\n",
    "            screen.blit(castle,(0,345 ))\n",
    "\n",
    "    # 6 - draw the screen elements\n",
    "    position = pygame.mouse.get_pos()\n",
    "    angle = math.atan2(position[1]-(playerpos[1]+32),position[0]-(playerpos[0]+26))\n",
    "    playerrot = pygame.transform.rotate(player, 360-angle*57.29)\n",
    "    playerpos1 = (playerpos[0]-playerrot.get_rect().width/2, playerpos[1]-playerrot.get_rect().height/2)\n",
    "    screen.blit(playerrot, playerpos1)\n",
    "    # screen.blit(player, (100,100))\n",
    "    # 7 - update the screen\n",
    "    pygame.display.flip()\n",
    "    # 8 - loop through the events\n",
    "    # 8 - loop through the events\n",
    "    for event in pygame.event.get():\n",
    "        # check if the event is the X button \n",
    "        if event.type==pygame.QUIT:\n",
    "            # if it is quit the game\n",
    "            pygame.quit()\n",
    "            exit(0)\n",
    "        if event.type == pygame.KEYDOWN:\n",
    "            if event.key==K_w:\n",
    "                keys[0]=True\n",
    "            elif event.key==K_a:\n",
    "                keys[1]=True\n",
    "            elif event.key==K_s:\n",
    "                keys[2]=True\n",
    "            elif event.key==K_d:\n",
    "                keys[3]=True\n",
    "        if event.type == pygame.KEYUP:\n",
    "            if event.key==pygame.K_w:\n",
    "                keys[0]=False\n",
    "            elif event.key==pygame.K_a:\n",
    "                keys[1]=False\n",
    "            elif event.key==pygame.K_s:\n",
    "                keys[2]=False\n",
    "            elif event.key==pygame.K_d:\n",
    "                keys[3]=False\n",
    "\n",
    "            # if it is quit the game\n",
    "                pygame.quit() \n",
    "                exit(0) "
   ]
  },
  {
   "cell_type": "markdown",
   "metadata": {},
   "source": [
    " ##  Step 5: Shoot, Bunny, Shoot!\n",
    " \n",
    " Now that your bunny’s moving around, it’s time to add a little more action. :] How about letting the bunny shoot enemies using arrows? This is no mild-mannered rabbit!\n",
    "\n",
    "This step is a bit more complicated because you have to keep track of all the arrows, update them, rotate them, and delete them when they go off-screen.\n",
    "\n",
    "First of all, add the necessary variables to the end of the initialization section, section #2:\n",
    " "
   ]
  },
  {
   "cell_type": "code",
   "execution_count": null,
   "metadata": {},
   "outputs": [],
   "source": [
    "acc=[0,0]\n",
    "arrows=[]"
   ]
  },
  {
   "cell_type": "markdown",
   "metadata": {},
   "source": [
    "The first variable keeps track of the player’s accuracy and the second array tracks all the arrows. The accuracy variable is essentially a list of the number of shots fired and the number of badgers hit. Later, we will be using this information to calculate an accuracy percentage.\n",
    "\n",
    "Next, load the arrow image at the end of section #3:"
   ]
  },
  {
   "cell_type": "code",
   "execution_count": null,
   "metadata": {},
   "outputs": [],
   "source": [
    "arrow = pygame.image.load(\"resources/images/bullet.png\")\n"
   ]
  },
  {
   "cell_type": "markdown",
   "metadata": {},
   "source": [
    "Now when a user clicks the mouse, an arrow needs to fire. Add the following to the end of section #8 as a new event handler:"
   ]
  },
  {
   "cell_type": "code",
   "execution_count": null,
   "metadata": {},
   "outputs": [],
   "source": [
    "        if event.type==pygame.MOUSEBUTTONDOWN:\n",
    "            position=pygame.mouse.get_pos()\n",
    "            acc[1]+=1\n",
    "            arrows.append([math.atan2(position[1]-(playerpos1[1]+32),position[0]-(playerpos1[0]+26)),playerpos1[0]+32,playerpos1[1]+32])\n"
   ]
  },
  {
   "cell_type": "markdown",
   "metadata": {},
   "source": [
    "This code checks if the mouse was clicked and if it was, it gets the mouse position and calculates the arrow rotation based on the rotated player position and the cursor position. This rotation value is stored in the arrows array.\n",
    "\n",
    "Next, you have to actually draw the arrows on screen. Add the following code right after section #6.1:"
   ]
  },
  {
   "cell_type": "markdown",
   "metadata": {},
   "source": [
    "    # 6.2 - Draw arrows\n",
    "    for bullet in arrows:\n",
    "        index=0\n",
    "        velx=math.cos(bullet[0])*10\n",
    "        vely=math.sin(bullet[0])*10\n",
    "        bullet[1]+=velx\n",
    "        bullet[2]+=vely\n",
    "        if bullet[1]<-64 or bullet[1]>640 or bullet[2]<-64 or bullet[2]>480:\n",
    "            arrows.pop(index)\n",
    "        index+=1\n",
    "        for projectile in arrows:\n",
    "            arrow1 = pygame.transform.rotate(arrow, 360-projectile[0]*57.29)\n",
    "            screen.blit(arrow1, (projectile[1], projectile[2]))\n"
   ]
  },
  {
   "cell_type": "markdown",
   "metadata": {},
   "source": [
    "The vely and velx values are calculated using basic trigonometry. 10 is the speed of the arrows. The if statement just checks if the bullet is out of bounds and if it is, it deletes the arrow. The second for statement loops through the arrows and draws them with the correct rotation.\n",
    "\n",
    "Try and run the program. You should have a bunny that shoots arrows when you click the mouse! :D\n",
    "\n"
   ]
  },
  {
   "cell_type": "code",
   "execution_count": 1,
   "metadata": {},
   "outputs": [
    {
     "name": "stdout",
     "output_type": "stream",
     "text": [
      "pygame 1.9.6\n",
      "Hello from the pygame community. https://www.pygame.org/contribute.html\n"
     ]
    },
    {
     "ename": "error",
     "evalue": "display Surface quit",
     "output_type": "error",
     "traceback": [
      "\u001b[1;31m---------------------------------------------------------------------------\u001b[0m",
      "\u001b[1;31merror\u001b[0m                                     Traceback (most recent call last)",
      "\u001b[1;32m<ipython-input-1-22c25cf17bd2>\u001b[0m in \u001b[0;36m<module>\u001b[1;34m\u001b[0m\n\u001b[0;32m     26\u001b[0m \u001b[1;32mwhile\u001b[0m \u001b[1;36m1\u001b[0m\u001b[1;33m:\u001b[0m\u001b[1;33m\u001b[0m\u001b[1;33m\u001b[0m\u001b[0m\n\u001b[0;32m     27\u001b[0m     \u001b[1;31m# 5 - clear the screen before drawing it again\u001b[0m\u001b[1;33m\u001b[0m\u001b[1;33m\u001b[0m\u001b[1;33m\u001b[0m\u001b[0m\n\u001b[1;32m---> 28\u001b[1;33m     \u001b[0mscreen\u001b[0m\u001b[1;33m.\u001b[0m\u001b[0mfill\u001b[0m\u001b[1;33m(\u001b[0m\u001b[1;36m0\u001b[0m\u001b[1;33m)\u001b[0m\u001b[1;33m\u001b[0m\u001b[1;33m\u001b[0m\u001b[0m\n\u001b[0m\u001b[0;32m     29\u001b[0m     \u001b[1;32mfor\u001b[0m \u001b[0mx\u001b[0m \u001b[1;32min\u001b[0m \u001b[0mrange\u001b[0m\u001b[1;33m(\u001b[0m\u001b[0mwidth\u001b[0m\u001b[1;33m//\u001b[0m\u001b[0mgrass\u001b[0m\u001b[1;33m.\u001b[0m\u001b[0mget_width\u001b[0m\u001b[1;33m(\u001b[0m\u001b[1;33m)\u001b[0m\u001b[1;33m+\u001b[0m\u001b[1;36m1\u001b[0m\u001b[1;33m)\u001b[0m\u001b[1;33m:\u001b[0m\u001b[1;33m\u001b[0m\u001b[1;33m\u001b[0m\u001b[0m\n\u001b[0;32m     30\u001b[0m             \u001b[1;32mfor\u001b[0m \u001b[0my\u001b[0m \u001b[1;32min\u001b[0m \u001b[0mrange\u001b[0m\u001b[1;33m(\u001b[0m\u001b[0mheight\u001b[0m\u001b[1;33m//\u001b[0m\u001b[0mgrass\u001b[0m\u001b[1;33m.\u001b[0m\u001b[0mget_height\u001b[0m\u001b[1;33m(\u001b[0m\u001b[1;33m)\u001b[0m\u001b[1;33m+\u001b[0m\u001b[1;36m1\u001b[0m\u001b[1;33m)\u001b[0m\u001b[1;33m:\u001b[0m\u001b[1;33m\u001b[0m\u001b[1;33m\u001b[0m\u001b[0m\n",
      "\u001b[1;31merror\u001b[0m: display Surface quit"
     ]
    }
   ],
   "source": [
    "# 1 - Import library\n",
    "import pygame\n",
    "from pygame.locals import *\n",
    "import math\n",
    "\n",
    "# 2 - Initialize the game\n",
    "pygame.init()\n",
    "width, height = 640, 480\n",
    "screen=pygame.display.set_mode((width, height))\n",
    "acc=[0,0]\n",
    "arrows=[]\n",
    "\n",
    "keys = [False, False, False, False]\n",
    "playerpos=[100,100]\n",
    "\n",
    "\n",
    "# 3 - Load images\n",
    "player = pygame.image.load(\"resources/images/dude.png\")\n",
    "grass = pygame.image.load(\"resources/images/grass.png\")\n",
    "castle = pygame.image.load(\"resources/images/castle.png\")\n",
    "arrow = pygame.image.load(\"resources/images/bullet.png\")\n",
    "\n",
    "\n",
    "\n",
    "# 4 - keep looping through\n",
    "while 1:\n",
    "    # 5 - clear the screen before drawing it again\n",
    "    screen.fill(0)\n",
    "    for x in range(width//grass.get_width()+1):\n",
    "            for y in range(height//grass.get_height()+1):\n",
    "                screen.blit(grass,(x*100,y*100))\n",
    "            screen.blit(castle,(0,30))\n",
    "            screen.blit(castle,(0,135))\n",
    "            screen.blit(castle,(0,240))\n",
    "            screen.blit(castle,(0,345 ))\n",
    "\n",
    "    # 6 - draw the screen elements\n",
    "       # 6.1 - Set player position and rotation\n",
    "    position = pygame.mouse.get_pos()\n",
    "    angle = math.atan2(position[1]-(playerpos[1]+32),position[0]-(playerpos[0]+26))\n",
    "    playerrot = pygame.transform.rotate(player, 360-angle*57.29)\n",
    "    playerpos1 = (playerpos[0]-playerrot.get_rect().width/2, playerpos[1]-playerrot.get_rect().height/2)\n",
    "    screen.blit(playerrot, playerpos1) \n",
    "    \n",
    "        # 6.2 - Draw arrows\n",
    "    for bullet in arrows:\n",
    "        index=0\n",
    "        velx=math.cos(bullet[0])*10\n",
    "        vely=math.sin(bullet[0])*10\n",
    "        bullet[1]+=velx\n",
    "        bullet[2]+=vely\n",
    "        if bullet[1]<-64 or bullet[1]>640 or bullet[2]<-64 or bullet[2]>480:\n",
    "            arrows.pop(index)\n",
    "        index+=1\n",
    "        for projectile in arrows:\n",
    "            arrow1 = pygame.transform.rotate(arrow, 360-projectile[0]*57.29)\n",
    "            screen.blit(arrow1, (projectile[1], projectile[2]))\n",
    "\n",
    "    # screen.blit(player, (100,100))\n",
    "    # 7 - update the screen\n",
    "    pygame.display.flip()\n",
    "    \n",
    "    # 8 - loop through the events\n",
    "    for event in pygame.event.get():\n",
    "        # check if the event is the X button \n",
    "        if event.type==pygame.QUIT:\n",
    "            # if it is quit the game\n",
    "            pygame.quit()\n",
    "            exit(0)\n",
    "        if event.type == pygame.KEYDOWN:\n",
    "            if event.key==K_w:\n",
    "                keys[0]=True\n",
    "            elif event.key==K_a:\n",
    "                keys[1]=True\n",
    "            elif event.key==K_s:\n",
    "                keys[2]=True\n",
    "            elif event.key==K_d:\n",
    "                keys[3]=True\n",
    "        if event.type == pygame.KEYUP:\n",
    "            if event.key==pygame.K_w:\n",
    "                keys[0]=False\n",
    "            elif event.key==pygame.K_a:\n",
    "                keys[1]=False\n",
    "            elif event.key==pygame.K_s:\n",
    "                keys[2]=False\n",
    "            elif event.key==pygame.K_d:\n",
    "                keys[3]=False\n",
    "        if event.type==pygame.MOUSEBUTTONDOWN:\n",
    "            position=pygame.mouse.get_pos()\n",
    "            acc[1]+=1\n",
    "            arrows.append([math.atan2(position[1]-(playerpos1[1]+32),position[0]-(playerpos1[0]+26)),playerpos1[0]+32,playerpos1[1]+32])\n",
    "\n",
    "\n",
    "            # if it is quit the game\n",
    "            pygame.quit() \n",
    "            exit(0) "
   ]
  },
  {
   "cell_type": "markdown",
   "metadata": {},
   "source": [
    "### Step 6: Take Up Arms! Badgers!\n",
    "OK, you have a castle and you have a hero who can move and shoot. So what’s missing? Enemies who attack the castle that the hero can shoot at!\n",
    "\n",
    "In this step, you’ll create randomly generated badgers that run at the castle. There will be more and more badgers as the game progresses. So, let’s make a list of what you’ll need it to do.\n",
    "\n",
    "Add bad guys to a list an array.\n",
    "Update the bad guy array each frame and check if they are off screen.\n",
    "Show the bad guys.\n",
    "Easy, right? :]\n",
    "\n",
    "First, add the following code to the end of section #2:"
   ]
  },
  {
   "cell_type": "code",
   "execution_count": 1,
   "metadata": {},
   "outputs": [],
   "source": [
    "badtimer=100\n",
    "badtimer1=0\n",
    "badguys=[[640,100]]\n",
    "healthvalue=194\n"
   ]
  },
  {
   "cell_type": "markdown",
   "metadata": {},
   "source": [
    "The above sets up a timer (as well as a few other values) so that the game adds a new badger after some time has elapsed. You decrease the badtimer every frame until it is zero and then you spawn a new badger.\n",
    "\n",
    "Now add the following to the end of section #3:"
   ]
  },
  {
   "cell_type": "code",
   "execution_count": null,
   "metadata": {},
   "outputs": [],
   "source": [
    "badguyimg1 = pygame.image.load(\"resources/images/badguy.png\")\n",
    "badguyimg=badguyimg1\n"
   ]
  },
  {
   "cell_type": "markdown",
   "metadata": {},
   "source": [
    "The first line above is similar to all the previous image-loading code. The second line sets up a copy of the image so that you can animate the bad guy much more easily.\n",
    "\n",
    "Next, you have to update and show the bad guys. Add this code right after section #6.2:"
   ]
  },
  {
   "cell_type": "code",
   "execution_count": null,
   "metadata": {},
   "outputs": [],
   "source": [
    "    # 6.3 - Draw badgers\n",
    "    if badtimer==0:\n",
    "        badguys.append([640, random.randint(50,430)])\n",
    "        badtimer=100-(badtimer1*2)\n",
    "        if badtimer1>=35:\n",
    "            badtimer1=35\n",
    "        else:\n",
    "            badtimer1+=5\n",
    "    index=0\n",
    "    for badguy in badguys:\n",
    "        if badguy[0]<-64:\n",
    "            badguys.pop(index)\n",
    "        badguy[0]-=7\n",
    "        index+=1\n",
    "    for badguy in badguys:\n",
    "        screen.blit(badguyimg, badguy)\n"
   ]
  },
  {
   "cell_type": "markdown",
   "metadata": {},
   "source": [
    "Lots of code to go over. :] The first line checks if badtimer is zero and if it is, creates a badger and sets badtimer up again based on how many times badtimer has run so far. The first for loop updates the x position of the badger, checks if the badger is off the screen, and removes the badger if it is offscreen. The second for loop draws all of the badgers.\n",
    "\n",
    "In order to use the random function in the above code, you also need to import the random library. So add the following to the end of section #1:"
   ]
  },
  {
   "cell_type": "code",
   "execution_count": null,
   "metadata": {},
   "outputs": [],
   "source": [
    "import random\n"
   ]
  },
  {
   "cell_type": "markdown",
   "metadata": {},
   "source": [
    "Finally, add this line right after the while statement (section #4) to decrement the value of badtimer for each frame:"
   ]
  },
  {
   "cell_type": "code",
   "execution_count": null,
   "metadata": {},
   "outputs": [],
   "source": [
    "badtimer-=1\n"
   ]
  },
  {
   "cell_type": "markdown",
   "metadata": {},
   "source": [
    "Try all of this code out by running the game. Now you should start seeing some real gameplay – you can shoot, move, turn, and badgers try to run at you."
   ]
  },
  {
   "cell_type": "markdown",
   "metadata": {},
   "source": [
    "But wait! Why aren't the badgers blowing up the castle? Let's quickly add that in...\n",
    "\n",
    "Add this code right before the index+=1 on the first for loop in section #6.3:"
   ]
  },
  {
   "cell_type": "code",
   "execution_count": null,
   "metadata": {},
   "outputs": [],
   "source": [
    "        # 6.3.1 - Attack castle\n",
    "        badrect=pygame.Rect(badguyimg.get_rect())\n",
    "        badrect.top=badguy[1]\n",
    "        badrect.left=badguy[0]\n",
    "        if badrect.left<64:\n",
    "            healthvalue -= random.randint(5,20)\n",
    "            badguys.pop(index)\n",
    "        # 6.3.3 - Next bad guy\n"
   ]
  },
  {
   "cell_type": "markdown",
   "metadata": {},
   "source": [
    "This code is fairly simple. If the badger's x value is less than 64 to the right, then delete that bad guy and decrease the game health value by a random value between 5 and 20. (Later, you will display the current health value on screen.)\n",
    "\n",
    "If you build and run the program, you should get a bunch of attacking badgers who vanish when they hit the castle. Although you cannot see it, the badgers are actually lowering your health."
   ]
  },
  {
   "cell_type": "markdown",
   "metadata": {},
   "source": [
    "### Step 7: Collisions with Badgers and Arrows\n",
    "The badgers are attacking your castle but your arrows have no effect on them! How's a bunny supposed to defend his home?\n",
    "\n",
    "Time to set the arrows to kill the badgers so you can safeguard your castle and win the game! Basically, you have to loop through all of the bad guys and inside each of those loops, you have to loop through all of the arrows and check if they collide. If they do, then delete the badger, delete the arrow, and add one to your accuracy ratio.\n",
    "\n",
    "Right after section #6.3.1, add this:"
   ]
  },
  {
   "cell_type": "code",
   "execution_count": null,
   "metadata": {},
   "outputs": [],
   "source": [
    "        #6.3.2 - Check for collisions\n",
    "        index1=0\n",
    "        for bullet in arrows:\n",
    "            bullrect=pygame.Rect(arrow.get_rect())\n",
    "            bullrect.left=bullet[1]\n",
    "            bullrect.top=bullet[2]\n",
    "            if badrect.colliderect(bullrect):\n",
    "                acc[0]+=1\n",
    "                badguys.pop(index)\n",
    "                arrows.pop(index1)\n",
    "            index1+=1\n"
   ]
  },
  {
   "cell_type": "markdown",
   "metadata": {},
   "source": [
    "There's only one important thing to note in this code. The if statement is a built-in PyGame function that checks if two rectangles intersect. The other couple of lines just do what I explained above.\n",
    "\n",
    "If you run the program, you should finally be able to shoot and kill the badgers."
   ]
  },
  {
   "cell_type": "markdown",
   "metadata": {},
   "source": [
    "### Step 8: Add a HUD with Health Meter and Clock\n",
    "The game's progressing pretty well. You have your attackers, and you have your defender. Now all you need is a way to keep score and to show how well the bunny is doing.\n",
    "\n",
    "The easiest way to do this is to add a HUD (Heads Up Display) that shows the current health level of the castle. You can also add a clock to show how long the castle has survived.\n",
    "\n",
    "First add the clock. Add the following code right before the beginning of section #7:"
   ]
  },
  {
   "cell_type": "code",
   "execution_count": null,
   "metadata": {},
   "outputs": [],
   "source": [
    "    # 6.4 - Draw clock\n",
    "    font = pygame.font.Font(None, 24)\n",
    "    survivedtext = font.render(str((90000-pygame.time.get_ticks())/60000)+\":\"+str((90000-pygame.time.get_ticks())/1000%60).zfill(2), True, (0,0,0))\n",
    "    textRect = survivedtext.get_rect()\n",
    "    textRect.topright=[635,5]\n",
    "    screen.blit(survivedtext, textRect)\n"
   ]
  },
  {
   "cell_type": "markdown",
   "metadata": {},
   "source": [
    "The above code simply creates a new font using the default PyGame font set to size 24. Then that font is used to render the text of the time onto a surface. After that, the text is positioned and drawn onscreen.\n",
    "\n",
    "Next add the health bar. But before drawing the health bar, you need to load the images for the bar. Add the following code to the end of section #3:"
   ]
  },
  {
   "cell_type": "code",
   "execution_count": null,
   "metadata": {},
   "outputs": [],
   "source": [
    "healthbar = pygame.image.load(\"resources/images/healthbar.png\")\n",
    "health = pygame.image.load(\"resources/images/health.png\")\n"
   ]
  },
  {
   "cell_type": "markdown",
   "metadata": {},
   "source": [
    "The first is the red image used for the full health bar. The second is the green image used to show the current health level.\n",
    "\n",
    "Now add the following code right after section #6.4 (which you just added) to draw the health bar on screen:"
   ]
  },
  {
   "cell_type": "code",
   "execution_count": null,
   "metadata": {},
   "outputs": [],
   "source": [
    "    # 6.5 - Draw health bar\n",
    "    screen.blit(healthbar, (5,5))\n",
    "    for health1 in range(healthvalue):\n",
    "        screen.blit(health, (health1+8,8))\n"
   ]
  },
  {
   "cell_type": "markdown",
   "metadata": {},
   "source": [
    "The code first draws the all-red health bar. Then it draws a certain amount of green over the bar, according to how much life the castle has remaining.\n",
    "\n",
    "If you build and run the program, you should have a timer and a health bar."
   ]
  },
  {
   "cell_type": "markdown",
   "metadata": {},
   "source": [
    "### Step 9: Win or Lose\n",
    "But what's this? If you play for long enough, even if your health goes down to zero, the game still continues! Not just that, you can continue to shoot at the badgers, too. That isn't going to work, now is it? You need some sort of a win/lose scenario to make the game worth playing.\n",
    "\n",
    "So let's add the win and lose condition as well as the win or lose screen. :] You do this by exiting out of the main loop and going into a win/lose loop. In the win/lose loop, you have to figure out if the user won or lost and display the screen accordingly.\n",
    "\n",
    "Here is a basic outline of the win/lose scenarios:\n",
    "\n",
    "If time is up (90000 ms or 90 seconds) then:\n",
    "\n",
    "Stop running the game\n",
    "Set outcome of game to 1 or win\n",
    "If the castle is destroyed then:\n",
    "\n",
    "Stop running game\n",
    "Set outcome of game to 1 or win\n",
    "Calculate the accuracy either way.\n",
    "\n",
    "Note: The acc[0]*1.0 is just converting acc[0] to a float. If you do not do this, the division operand will return an integer like 1 or 2 instead of a float like 1.5\n",
    "\n",
    "Add these lines to the end of game.py:"
   ]
  },
  {
   "cell_type": "code",
   "execution_count": null,
   "metadata": {},
   "outputs": [],
   "source": [
    "    #10 - Win/Lose check\n",
    "    if pygame.time.get_ticks()>=90000:\n",
    "        running=0\n",
    "        exitcode=1\n",
    "    if healthvalue<=0:\n",
    "        running=0\n",
    "        exitcode=0\n",
    "    if acc[1]!=0:\n",
    "        accuracy=acc[0]*1.0/acc[1]*100\n",
    "    else:\n",
    "        accuracy=0\n",
    "# 11 - Win/lose display        \n",
    "if exitcode==0:\n",
    "    pygame.font.init()\n",
    "    font = pygame.font.Font(None, 24)\n",
    "    text = font.render(\"Accuracy: \"+str(accuracy)+\"%\", True, (255,0,0))\n",
    "    textRect = text.get_rect()\n",
    "    textRect.centerx = screen.get_rect().centerx\n",
    "    textRect.centery = screen.get_rect().centery+24\n",
    "    screen.blit(gameover, (0,0))\n",
    "    screen.blit(text, textRect)\n",
    "else:\n",
    "    pygame.font.init()\n",
    "    font = pygame.font.Font(None, 24)\n",
    "    text = font.render(\"Accuracy: \"+str(accuracy)+\"%\", True, (0,255,0))\n",
    "    textRect = text.get_rect()\n",
    "    textRect.centerx = screen.get_rect().centerx\n",
    "    textRect.centery = screen.get_rect().centery+24\n",
    "    screen.blit(youwin, (0,0))\n",
    "    screen.blit(text, textRect)\n",
    "while 1:\n",
    "    for event in pygame.event.get():\n",
    "        if event.type == pygame.QUIT:\n",
    "            pygame.quit()\n",
    "            exit(0)\n",
    "    pygame.display.flip()\n"
   ]
  },
  {
   "cell_type": "markdown",
   "metadata": {},
   "source": [
    "This is the longest bit of code yet! But it’s not that complicated.\n",
    "\n",
    "The first if statement checks if the time is up. The second one checks if the castle is destroyed. The third one calculates your accuracy ratio. After that, a quick if statement checks if you won or lost and displays the correct image.\n",
    "\n",
    "Of course, if you want to display images for the win and lose screens, then those images have to be loaded first. So add the following code to the end of section #3:"
   ]
  },
  {
   "cell_type": "code",
   "execution_count": null,
   "metadata": {},
   "outputs": [],
   "source": [
    "gameover = pygame.image.load(\"resources/images/gameover.png\")\n",
    "youwin = pygame.image.load(\"resources/images/youwin.png\")\n"
   ]
  },
  {
   "cell_type": "markdown",
   "metadata": {},
   "source": [
    "One more quick thing. Change section #4 from:"
   ]
  },
  {
   "cell_type": "code",
   "execution_count": null,
   "metadata": {},
   "outputs": [],
   "source": [
    "# 4 - keep looping through\n",
    "while 1:\n",
    "    badtimer-=1\n",
    "    \n",
    "    TO \n",
    "    \n",
    "    \n",
    "    # 4 - keep looping through\n",
    "running = 1\n",
    "exitcode = 0\n",
    "while running:\n",
    "    badtimer-=1\n"
   ]
  },
  {
   "cell_type": "markdown",
   "metadata": {},
   "source": [
    "The running variable keeps track of if the game is over and the exit code variable keeps track of whether the player won or lost.\n",
    "\n",
    "Run the game again and now you can either triumph or die trying! Cool. :]\n",
    "\n"
   ]
  },
  {
   "cell_type": "markdown",
   "metadata": {},
   "source": [
    "### Step 10: Gratuitous Music and Sound Effects!\n",
    "The game's looking pretty good but how does it sound? It's a bit quiet, isn't it? Adding some sound effects can change the whole feel of a game.\n",
    "\n",
    "PyGame makes loading and playing sounds super simple. First, you have to initialize the mixer by adding this at the end of section #2:"
   ]
  },
  {
   "cell_type": "code",
   "execution_count": null,
   "metadata": {},
   "outputs": [],
   "source": [
    "pygame.mixer.init()\n"
   ]
  },
  {
   "cell_type": "markdown",
   "metadata": {},
   "source": [
    "Then load the sounds and set the volume level at the end of section #3:"
   ]
  },
  {
   "cell_type": "code",
   "execution_count": null,
   "metadata": {},
   "outputs": [],
   "source": [
    "# 3.1 - Load audio\n",
    "hit = pygame.mixer.Sound(\"resources/audio/explode.wav\")\n",
    "enemy = pygame.mixer.Sound(\"resources/audio/enemy.wav\")\n",
    "shoot = pygame.mixer.Sound(\"resources/audio/shoot.wav\")\n",
    "hit.set_volume(0.05)\n",
    "enemy.set_volume(0.05)\n",
    "shoot.set_volume(0.05)\n",
    "pygame.mixer.music.load('resources/audio/moonlight.wav')\n",
    "pygame.mixer.music.play(-1, 0.0)\n",
    "pygame.mixer.music.set_volume(0.25)\n"
   ]
  },
  {
   "cell_type": "markdown",
   "metadata": {},
   "source": [
    "Most of the above code is simply loading the audio files and configuring the audio volume levels. But pay attention to the pygame.mixer.music.load line – that line loads the background music for the game and the next line sets the background music to repeat forever.\n",
    "\n",
    "That takes care of the audio configuration. :] Now all you need to do is to play the various sound effects as needed. Do that as per the directions in the comments for the code below:"
   ]
  },
  {
   "cell_type": "code",
   "execution_count": null,
   "metadata": {},
   "outputs": [],
   "source": [
    "# section 6.3.1 after if badrect.left<64:\n",
    "hit.play()\n",
    "# section 6.3.2 after if badrect.colliderect(bullrect):\n",
    "enemy.play()\n",
    "# section 8, after if event.type==pygame.MOUSEBUTTONDOWN:\n",
    "shoot.play()\n"
   ]
  },
  {
   "cell_type": "markdown",
   "metadata": {},
   "source": [
    "Run the game one more time and you'll notice that you now have background music and sound effects for collisions and shooting. The game feels that much more alive! :]\n",
    "\n",
    "Where To Go From Here?\n",
    "You should be proud of yourself: you have just finished creating a fun game packed with music, sound effects, a killer rabbit, kamikaze badgers and more. I told you you could do it! :]\n",
    "\n",
    "\n",
    "\n",
    "At this point, feel free to extend this game into your own creation! Maybe try replacing the art with your own drawings, or adding different weapons or types of monsters into the game!"
   ]
  },
  {
   "cell_type": "code",
   "execution_count": null,
   "metadata": {},
   "outputs": [],
   "source": []
  }
 ],
 "metadata": {
  "kernelspec": {
   "display_name": "Python 3",
   "language": "python",
   "name": "python3"
  },
  "language_info": {
   "codemirror_mode": {
    "name": "ipython",
    "version": 3
   },
   "file_extension": ".py",
   "mimetype": "text/x-python",
   "name": "python",
   "nbconvert_exporter": "python",
   "pygments_lexer": "ipython3",
   "version": "3.7.1"
  }
 },
 "nbformat": 4,
 "nbformat_minor": 2
}
